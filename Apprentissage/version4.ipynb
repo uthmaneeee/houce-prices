{
 "cells": [
  {
   "cell_type": "code",
   "execution_count": 1,
   "id": "dd44854e",
   "metadata": {},
   "outputs": [],
   "source": [
    "###Que les 3 caracterisqtues"
   ]
  },
  {
   "cell_type": "code",
   "execution_count": 2,
   "id": "6842b524",
   "metadata": {},
   "outputs": [],
   "source": [
    "import pandas as pd\n",
    "import os\n",
    "import glob\n",
    "import numpy as np\n",
    "import matplotlib.pyplot as plt\n",
    "import seaborn as sns\n",
    "from sklearn.model_selection import train_test_split\n",
    "from sklearn.preprocessing import MinMaxScaler\n",
    "from sklearn.feature_selection import RFE\n",
    "from sklearn.linear_model import LinearRegression\n",
    "import statsmodels.api as s"
   ]
  },
  {
   "cell_type": "code",
   "execution_count": 3,
   "id": "18f46e9f",
   "metadata": {},
   "outputs": [],
   "source": [
    "header_list = [\"id_mutation\",'date_mutation','numero_disposition','nature_mutation','valeur_fonciere','adresse_numero','adresse_suffixe','adresse_nom_voie','adresse_code_voie','code_postal','code_commune','nom_commune','code_departement','ancien_code_commune','ancien_nom_commune','id_parcelle','ancien_id_parcelle','numero_volume','lot1_numero','lot1_surface_carrez','lot2_numero','lot2_surface_carrez','lot3_numero','lot3_surface_carrez','lot4_numero','lot4_surface_carrez','lot5_numero','lot5_surface_carrez','nombre_lots','code_type_local','type_local','surface_reelle_bati','nombre_pieces_principales','code_nature_culture','nature_culture','code_nature_culture_speciale','nature_culture_speciale','surface_terrain','longitude','latitude','section_prefixe']"
   ]
  },
  {
   "cell_type": "code",
   "execution_count": 4,
   "id": "5b167c1c",
   "metadata": {},
   "outputs": [],
   "source": [
    "#On liste tous les fichiers csv qu'on a\n",
    "csv_files = glob.glob('*.{}'.format('csv'))"
   ]
  },
  {
   "cell_type": "code",
   "execution_count": 5,
   "id": "f850920e",
   "metadata": {},
   "outputs": [],
   "source": [
    "df_concat = pd.concat([pd.read_csv(f,sep = ';' ,names=header_list) for f in csv_files ], ignore_index=True)\n"
   ]
  },
  {
   "cell_type": "code",
   "execution_count": 6,
   "id": "59c854fa",
   "metadata": {},
   "outputs": [],
   "source": [
    "df_concat.drop(df_concat[df_concat['valeur_fonciere'] =='valeur_fonciere'].index, inplace = True)\n"
   ]
  },
  {
   "cell_type": "code",
   "execution_count": 7,
   "id": "313eb0aa",
   "metadata": {},
   "outputs": [],
   "source": [
    "List2 = ['id_mutation','date_mutation','numero_disposition','nature_mutation','code_commune','nom_commune','code_departement','id_parcelle','nombre_lots','section_prefixe']\n",
    "List = ['longitude','latitude','adresse_numero','adresse_suffixe','adresse_nom_voie','adresse_code_voie','code_postal','ancien_code_commune','ancien_nom_commune','ancien_id_parcelle','numero_volume','lot1_surface_carrez','lot1_numero','lot2_numero','lot2_surface_carrez','lot3_surface_carrez','lot3_numero','lot4_numero','lot4_surface_carrez','lot5_numero','lot5_surface_carrez','code_type_local','type_local','code_nature_culture','nature_culture','code_nature_culture_speciale','nature_culture_speciale']\n",
    "List.append(List2)\n",
    "for i in List:\n",
    "    df_concat.drop(i, inplace=True, axis=1)"
   ]
  },
  {
   "cell_type": "code",
   "execution_count": 8,
   "id": "8ed72405",
   "metadata": {},
   "outputs": [
    {
     "data": {
      "text/html": [
       "<div>\n",
       "<style scoped>\n",
       "    .dataframe tbody tr th:only-of-type {\n",
       "        vertical-align: middle;\n",
       "    }\n",
       "\n",
       "    .dataframe tbody tr th {\n",
       "        vertical-align: top;\n",
       "    }\n",
       "\n",
       "    .dataframe thead th {\n",
       "        text-align: right;\n",
       "    }\n",
       "</style>\n",
       "<table border=\"1\" class=\"dataframe\">\n",
       "  <thead>\n",
       "    <tr style=\"text-align: right;\">\n",
       "      <th></th>\n",
       "      <th>valeur_fonciere</th>\n",
       "      <th>surface_reelle_bati</th>\n",
       "      <th>nombre_pieces_principales</th>\n",
       "      <th>surface_terrain</th>\n",
       "    </tr>\n",
       "  </thead>\n",
       "  <tbody>\n",
       "    <tr>\n",
       "      <th>1</th>\n",
       "      <td>260000.0</td>\n",
       "      <td>129.0</td>\n",
       "      <td>4.0</td>\n",
       "      <td>351.0</td>\n",
       "    </tr>\n",
       "    <tr>\n",
       "      <th>2</th>\n",
       "      <td>260000.0</td>\n",
       "      <td>NaN</td>\n",
       "      <td>0.0</td>\n",
       "      <td>351.0</td>\n",
       "    </tr>\n",
       "    <tr>\n",
       "      <th>3</th>\n",
       "      <td>160000.0</td>\n",
       "      <td>64.0</td>\n",
       "      <td>4.0</td>\n",
       "      <td>452.0</td>\n",
       "    </tr>\n",
       "    <tr>\n",
       "      <th>4</th>\n",
       "      <td>174000.0</td>\n",
       "      <td>64.0</td>\n",
       "      <td>4.0</td>\n",
       "      <td>498.0</td>\n",
       "    </tr>\n",
       "    <tr>\n",
       "      <th>5</th>\n",
       "      <td>174000.0</td>\n",
       "      <td>NaN</td>\n",
       "      <td>0.0</td>\n",
       "      <td>498.0</td>\n",
       "    </tr>\n",
       "    <tr>\n",
       "      <th>...</th>\n",
       "      <td>...</td>\n",
       "      <td>...</td>\n",
       "      <td>...</td>\n",
       "      <td>...</td>\n",
       "    </tr>\n",
       "    <tr>\n",
       "      <th>3001</th>\n",
       "      <td>56460.0</td>\n",
       "      <td>11002.0</td>\n",
       "      <td>0.0</td>\n",
       "      <td>29103.0</td>\n",
       "    </tr>\n",
       "    <tr>\n",
       "      <th>3002</th>\n",
       "      <td>1000000.0</td>\n",
       "      <td>87.0</td>\n",
       "      <td>3.0</td>\n",
       "      <td>3973.0</td>\n",
       "    </tr>\n",
       "    <tr>\n",
       "      <th>3003</th>\n",
       "      <td>1000000.0</td>\n",
       "      <td>1048.0</td>\n",
       "      <td>0.0</td>\n",
       "      <td>3973.0</td>\n",
       "    </tr>\n",
       "    <tr>\n",
       "      <th>3004</th>\n",
       "      <td>165600.0</td>\n",
       "      <td>NaN</td>\n",
       "      <td>NaN</td>\n",
       "      <td>1465.0</td>\n",
       "    </tr>\n",
       "    <tr>\n",
       "      <th>3005</th>\n",
       "      <td>665000.0</td>\n",
       "      <td>600.0</td>\n",
       "      <td>0.0</td>\n",
       "      <td>2112.0</td>\n",
       "    </tr>\n",
       "  </tbody>\n",
       "</table>\n",
       "<p>2972 rows × 4 columns</p>\n",
       "</div>"
      ],
      "text/plain": [
       "     valeur_fonciere surface_reelle_bati nombre_pieces_principales  \\\n",
       "1           260000.0               129.0                       4.0   \n",
       "2           260000.0                 NaN                       0.0   \n",
       "3           160000.0                64.0                       4.0   \n",
       "4           174000.0                64.0                       4.0   \n",
       "5           174000.0                 NaN                       0.0   \n",
       "...              ...                 ...                       ...   \n",
       "3001         56460.0             11002.0                       0.0   \n",
       "3002       1000000.0                87.0                       3.0   \n",
       "3003       1000000.0              1048.0                       0.0   \n",
       "3004        165600.0                 NaN                       NaN   \n",
       "3005        665000.0               600.0                       0.0   \n",
       "\n",
       "     surface_terrain  \n",
       "1              351.0  \n",
       "2              351.0  \n",
       "3              452.0  \n",
       "4              498.0  \n",
       "5              498.0  \n",
       "...              ...  \n",
       "3001         29103.0  \n",
       "3002          3973.0  \n",
       "3003          3973.0  \n",
       "3004          1465.0  \n",
       "3005          2112.0  \n",
       "\n",
       "[2972 rows x 4 columns]"
      ]
     },
     "execution_count": 8,
     "metadata": {},
     "output_type": "execute_result"
    }
   ],
   "source": [
    "df_concat"
   ]
  },
  {
   "cell_type": "code",
   "execution_count": 9,
   "id": "345bda9b",
   "metadata": {},
   "outputs": [],
   "source": [
    "df_concat=df_concat.dropna()"
   ]
  },
  {
   "cell_type": "code",
   "execution_count": 10,
   "id": "c9fe5b50",
   "metadata": {},
   "outputs": [
    {
     "data": {
      "text/html": [
       "<div>\n",
       "<style scoped>\n",
       "    .dataframe tbody tr th:only-of-type {\n",
       "        vertical-align: middle;\n",
       "    }\n",
       "\n",
       "    .dataframe tbody tr th {\n",
       "        vertical-align: top;\n",
       "    }\n",
       "\n",
       "    .dataframe thead th {\n",
       "        text-align: right;\n",
       "    }\n",
       "</style>\n",
       "<table border=\"1\" class=\"dataframe\">\n",
       "  <thead>\n",
       "    <tr style=\"text-align: right;\">\n",
       "      <th></th>\n",
       "      <th>valeur_fonciere</th>\n",
       "      <th>surface_reelle_bati</th>\n",
       "      <th>nombre_pieces_principales</th>\n",
       "      <th>surface_terrain</th>\n",
       "    </tr>\n",
       "  </thead>\n",
       "  <tbody>\n",
       "    <tr>\n",
       "      <th>1</th>\n",
       "      <td>260000.0</td>\n",
       "      <td>129.0</td>\n",
       "      <td>4.0</td>\n",
       "      <td>351.0</td>\n",
       "    </tr>\n",
       "    <tr>\n",
       "      <th>3</th>\n",
       "      <td>160000.0</td>\n",
       "      <td>64.0</td>\n",
       "      <td>4.0</td>\n",
       "      <td>452.0</td>\n",
       "    </tr>\n",
       "    <tr>\n",
       "      <th>4</th>\n",
       "      <td>174000.0</td>\n",
       "      <td>64.0</td>\n",
       "      <td>4.0</td>\n",
       "      <td>498.0</td>\n",
       "    </tr>\n",
       "    <tr>\n",
       "      <th>6</th>\n",
       "      <td>200000.0</td>\n",
       "      <td>18.0</td>\n",
       "      <td>1.0</td>\n",
       "      <td>105.0</td>\n",
       "    </tr>\n",
       "    <tr>\n",
       "      <th>7</th>\n",
       "      <td>200000.0</td>\n",
       "      <td>68.0</td>\n",
       "      <td>0.0</td>\n",
       "      <td>105.0</td>\n",
       "    </tr>\n",
       "    <tr>\n",
       "      <th>...</th>\n",
       "      <td>...</td>\n",
       "      <td>...</td>\n",
       "      <td>...</td>\n",
       "      <td>...</td>\n",
       "    </tr>\n",
       "    <tr>\n",
       "      <th>3000</th>\n",
       "      <td>56460.0</td>\n",
       "      <td>919.0</td>\n",
       "      <td>0.0</td>\n",
       "      <td>29103.0</td>\n",
       "    </tr>\n",
       "    <tr>\n",
       "      <th>3001</th>\n",
       "      <td>56460.0</td>\n",
       "      <td>11002.0</td>\n",
       "      <td>0.0</td>\n",
       "      <td>29103.0</td>\n",
       "    </tr>\n",
       "    <tr>\n",
       "      <th>3002</th>\n",
       "      <td>1000000.0</td>\n",
       "      <td>87.0</td>\n",
       "      <td>3.0</td>\n",
       "      <td>3973.0</td>\n",
       "    </tr>\n",
       "    <tr>\n",
       "      <th>3003</th>\n",
       "      <td>1000000.0</td>\n",
       "      <td>1048.0</td>\n",
       "      <td>0.0</td>\n",
       "      <td>3973.0</td>\n",
       "    </tr>\n",
       "    <tr>\n",
       "      <th>3005</th>\n",
       "      <td>665000.0</td>\n",
       "      <td>600.0</td>\n",
       "      <td>0.0</td>\n",
       "      <td>2112.0</td>\n",
       "    </tr>\n",
       "  </tbody>\n",
       "</table>\n",
       "<p>1332 rows × 4 columns</p>\n",
       "</div>"
      ],
      "text/plain": [
       "     valeur_fonciere surface_reelle_bati nombre_pieces_principales  \\\n",
       "1           260000.0               129.0                       4.0   \n",
       "3           160000.0                64.0                       4.0   \n",
       "4           174000.0                64.0                       4.0   \n",
       "6           200000.0                18.0                       1.0   \n",
       "7           200000.0                68.0                       0.0   \n",
       "...              ...                 ...                       ...   \n",
       "3000         56460.0               919.0                       0.0   \n",
       "3001         56460.0             11002.0                       0.0   \n",
       "3002       1000000.0                87.0                       3.0   \n",
       "3003       1000000.0              1048.0                       0.0   \n",
       "3005        665000.0               600.0                       0.0   \n",
       "\n",
       "     surface_terrain  \n",
       "1              351.0  \n",
       "3              452.0  \n",
       "4              498.0  \n",
       "6              105.0  \n",
       "7              105.0  \n",
       "...              ...  \n",
       "3000         29103.0  \n",
       "3001         29103.0  \n",
       "3002          3973.0  \n",
       "3003          3973.0  \n",
       "3005          2112.0  \n",
       "\n",
       "[1332 rows x 4 columns]"
      ]
     },
     "execution_count": 10,
     "metadata": {},
     "output_type": "execute_result"
    }
   ],
   "source": [
    "df_concat"
   ]
  },
  {
   "cell_type": "code",
   "execution_count": 11,
   "id": "fffc7948",
   "metadata": {},
   "outputs": [],
   "source": [
    "Q1 = pd.to_numeric(df_concat['surface_reelle_bati']).quantile(0.25)\n",
    "Q3 = pd.to_numeric(df_concat['surface_reelle_bati']).quantile(0.75)\n",
    "IQR = Q3 - Q1\n",
    "df_concat = df_concat[(pd.to_numeric(df_concat['surface_reelle_bati']) >= Q1 - 1.5*IQR) & (pd.to_numeric(df_concat['surface_reelle_bati']) <= Q3 + 1.5*IQR)]"
   ]
  },
  {
   "cell_type": "code",
   "execution_count": 12,
   "id": "57e4441e",
   "metadata": {},
   "outputs": [],
   "source": [
    "Q1 = pd.to_numeric(df_concat['surface_terrain']).quantile(0.25)\n",
    "Q3 = pd.to_numeric(df_concat['surface_terrain']).quantile(0.75)\n",
    "IQR = Q3 - Q1\n",
    "df_concat = df_concat[(pd.to_numeric(df_concat['surface_terrain']) >= Q1 - 1.5*IQR) & (pd.to_numeric(df_concat['surface_terrain']) <= Q3 + 1.5*IQR)]"
   ]
  },
  {
   "cell_type": "code",
   "execution_count": 13,
   "id": "59bd6222",
   "metadata": {},
   "outputs": [],
   "source": [
    "Q1 = pd.to_numeric(df_concat['valeur_fonciere']).quantile(0.25)\n",
    "Q3 = pd.to_numeric(df_concat['valeur_fonciere']).quantile(0.75)\n",
    "IQR = Q3 - Q1\n",
    "df_concat = df_concat[(pd.to_numeric(df_concat['valeur_fonciere']) >= Q1 - 1.5*IQR) & (pd.to_numeric(df_concat['valeur_fonciere']) <= Q3 + 1.5*IQR)]"
   ]
  },
  {
   "cell_type": "code",
   "execution_count": 14,
   "id": "8f9c44da",
   "metadata": {},
   "outputs": [],
   "source": [
    "Q1 = pd.to_numeric(df_concat['nombre_pieces_principales']).quantile(0.25)\n",
    "Q3 = pd.to_numeric(df_concat['nombre_pieces_principales']).quantile(0.75)\n",
    "IQR = Q3 - Q1\n",
    "df_concat = df_concat[(pd.to_numeric(df_concat['nombre_pieces_principales']) >= Q1 - 1.5*IQR) & (pd.to_numeric(df_concat['nombre_pieces_principales']) <= Q3 + 1.5*IQR)]\n"
   ]
  },
  {
   "cell_type": "code",
   "execution_count": 15,
   "id": "3fd801f7",
   "metadata": {},
   "outputs": [
    {
     "data": {
      "text/html": [
       "<div>\n",
       "<style scoped>\n",
       "    .dataframe tbody tr th:only-of-type {\n",
       "        vertical-align: middle;\n",
       "    }\n",
       "\n",
       "    .dataframe tbody tr th {\n",
       "        vertical-align: top;\n",
       "    }\n",
       "\n",
       "    .dataframe thead th {\n",
       "        text-align: right;\n",
       "    }\n",
       "</style>\n",
       "<table border=\"1\" class=\"dataframe\">\n",
       "  <thead>\n",
       "    <tr style=\"text-align: right;\">\n",
       "      <th></th>\n",
       "      <th>valeur_fonciere</th>\n",
       "      <th>surface_reelle_bati</th>\n",
       "      <th>nombre_pieces_principales</th>\n",
       "      <th>surface_terrain</th>\n",
       "    </tr>\n",
       "  </thead>\n",
       "  <tbody>\n",
       "    <tr>\n",
       "      <th>1</th>\n",
       "      <td>260000.0</td>\n",
       "      <td>129.0</td>\n",
       "      <td>4.0</td>\n",
       "      <td>351.0</td>\n",
       "    </tr>\n",
       "    <tr>\n",
       "      <th>3</th>\n",
       "      <td>160000.0</td>\n",
       "      <td>64.0</td>\n",
       "      <td>4.0</td>\n",
       "      <td>452.0</td>\n",
       "    </tr>\n",
       "    <tr>\n",
       "      <th>4</th>\n",
       "      <td>174000.0</td>\n",
       "      <td>64.0</td>\n",
       "      <td>4.0</td>\n",
       "      <td>498.0</td>\n",
       "    </tr>\n",
       "    <tr>\n",
       "      <th>6</th>\n",
       "      <td>200000.0</td>\n",
       "      <td>18.0</td>\n",
       "      <td>1.0</td>\n",
       "      <td>105.0</td>\n",
       "    </tr>\n",
       "    <tr>\n",
       "      <th>7</th>\n",
       "      <td>200000.0</td>\n",
       "      <td>68.0</td>\n",
       "      <td>0.0</td>\n",
       "      <td>105.0</td>\n",
       "    </tr>\n",
       "    <tr>\n",
       "      <th>...</th>\n",
       "      <td>...</td>\n",
       "      <td>...</td>\n",
       "      <td>...</td>\n",
       "      <td>...</td>\n",
       "    </tr>\n",
       "    <tr>\n",
       "      <th>2978</th>\n",
       "      <td>158500.0</td>\n",
       "      <td>97.0</td>\n",
       "      <td>5.0</td>\n",
       "      <td>406.0</td>\n",
       "    </tr>\n",
       "    <tr>\n",
       "      <th>2981</th>\n",
       "      <td>145000.0</td>\n",
       "      <td>74.0</td>\n",
       "      <td>5.0</td>\n",
       "      <td>374.0</td>\n",
       "    </tr>\n",
       "    <tr>\n",
       "      <th>2982</th>\n",
       "      <td>262500.0</td>\n",
       "      <td>102.0</td>\n",
       "      <td>5.0</td>\n",
       "      <td>434.0</td>\n",
       "    </tr>\n",
       "    <tr>\n",
       "      <th>2983</th>\n",
       "      <td>130000.0</td>\n",
       "      <td>64.0</td>\n",
       "      <td>4.0</td>\n",
       "      <td>369.0</td>\n",
       "    </tr>\n",
       "    <tr>\n",
       "      <th>2984</th>\n",
       "      <td>189300.0</td>\n",
       "      <td>80.0</td>\n",
       "      <td>4.0</td>\n",
       "      <td>354.0</td>\n",
       "    </tr>\n",
       "  </tbody>\n",
       "</table>\n",
       "<p>1053 rows × 4 columns</p>\n",
       "</div>"
      ],
      "text/plain": [
       "     valeur_fonciere surface_reelle_bati nombre_pieces_principales  \\\n",
       "1           260000.0               129.0                       4.0   \n",
       "3           160000.0                64.0                       4.0   \n",
       "4           174000.0                64.0                       4.0   \n",
       "6           200000.0                18.0                       1.0   \n",
       "7           200000.0                68.0                       0.0   \n",
       "...              ...                 ...                       ...   \n",
       "2978        158500.0                97.0                       5.0   \n",
       "2981        145000.0                74.0                       5.0   \n",
       "2982        262500.0               102.0                       5.0   \n",
       "2983        130000.0                64.0                       4.0   \n",
       "2984        189300.0                80.0                       4.0   \n",
       "\n",
       "     surface_terrain  \n",
       "1              351.0  \n",
       "3              452.0  \n",
       "4              498.0  \n",
       "6              105.0  \n",
       "7              105.0  \n",
       "...              ...  \n",
       "2978           406.0  \n",
       "2981           374.0  \n",
       "2982           434.0  \n",
       "2983           369.0  \n",
       "2984           354.0  \n",
       "\n",
       "[1053 rows x 4 columns]"
      ]
     },
     "execution_count": 15,
     "metadata": {},
     "output_type": "execute_result"
    }
   ],
   "source": [
    "df_concat"
   ]
  },
  {
   "cell_type": "code",
   "execution_count": 16,
   "id": "11683f7f",
   "metadata": {},
   "outputs": [],
   "source": [
    "np.random.seed(0)\n",
    "df_train, df_test = train_test_split(df_concat, train_size = 0.7, test_size = 0.3, random_state = 100)"
   ]
  },
  {
   "cell_type": "code",
   "execution_count": 17,
   "id": "cc93a503",
   "metadata": {},
   "outputs": [],
   "source": [
    "scaler = MinMaxScaler()\n",
    "\n",
    "df_train = scaler.fit_transform(df_train)\n",
    "df_test = scaler.fit_transform(df_test)"
   ]
  },
  {
   "cell_type": "code",
   "execution_count": 18,
   "id": "9f0762c8",
   "metadata": {},
   "outputs": [],
   "source": [
    "np.random.seed(0)\n",
    "df_train, df_test = train_test_split(df_concat, train_size = 0.7, test_size = 0.3, random_state = 100)"
   ]
  },
  {
   "cell_type": "code",
   "execution_count": 19,
   "id": "9fb363e0",
   "metadata": {},
   "outputs": [],
   "source": [
    "### diviser les données \n",
    "y_train = df_train.pop('valeur_fonciere')\n",
    "X_train = df_train"
   ]
  },
  {
   "cell_type": "code",
   "execution_count": 20,
   "id": "aef27efc",
   "metadata": {},
   "outputs": [
    {
     "data": {
      "text/plain": [
       "LinearRegression()"
      ]
     },
     "execution_count": 20,
     "metadata": {},
     "output_type": "execute_result"
    }
   ],
   "source": [
    "lm = LinearRegression()\n",
    "lm.fit(X_train, y_train)"
   ]
  },
  {
   "cell_type": "code",
   "execution_count": 21,
   "id": "2f60447d",
   "metadata": {},
   "outputs": [],
   "source": [
    "y_test = df_test.pop('valeur_fonciere')\n",
    "X_test = df_test"
   ]
  },
  {
   "cell_type": "code",
   "execution_count": 22,
   "id": "30f3e452",
   "metadata": {},
   "outputs": [],
   "source": [
    "y_pred = lm.predict(X_test)"
   ]
  },
  {
   "cell_type": "code",
   "execution_count": 23,
   "id": "52e790ce",
   "metadata": {},
   "outputs": [
    {
     "data": {
      "text/plain": [
       "0.23670948358875055"
      ]
     },
     "execution_count": 23,
     "metadata": {},
     "output_type": "execute_result"
    }
   ],
   "source": [
    "from sklearn.metrics import r2_score \n",
    "r2_score(y_test, y_pred)"
   ]
  },
  {
   "cell_type": "code",
   "execution_count": null,
   "id": "3eeb5628",
   "metadata": {},
   "outputs": [],
   "source": []
  }
 ],
 "metadata": {
  "kernelspec": {
   "display_name": "Python 3 (ipykernel)",
   "language": "python",
   "name": "python3"
  },
  "language_info": {
   "codemirror_mode": {
    "name": "ipython",
    "version": 3
   },
   "file_extension": ".py",
   "mimetype": "text/x-python",
   "name": "python",
   "nbconvert_exporter": "python",
   "pygments_lexer": "ipython3",
   "version": "3.9.12"
  }
 },
 "nbformat": 4,
 "nbformat_minor": 5
}
